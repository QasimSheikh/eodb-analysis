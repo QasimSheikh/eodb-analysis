import numpy as np
import pandas as pd
from pathlib import Path
import matplotlib.pyplot as plt
import seaborn as sns
from typing import Dict, List, Tuple
from sklearn.metrics import mean_squared_error, mean_absolute_error
from enhanced_transition_matrix import EnhancedTransitionMatrix

     
class EnhancedPredictor:
    def __init__(self, transition_matrix, stability_metrics, config):
        self.transition_matrix = transition_matrix
        self.stability_metrics = stability_metrics
        self.config = config
        self.prediction_cache = {}
        self.confidence_scores = {}
        
    def predict_sequence(self, 
                        initial_state: tuple, 
                        n_steps: int,
                        series_id: str = None) -> List[Dict]:
        predictions = []
        current_state = initial_state
        cumulative_confidence = 1.0
        
        # Get stability metrics for confidence calculation
        stability_info = self.stability_metrics.get(series_id, {})
        base_stability = stability_info.get('stability_scores', {}).get('composite_score', 0.5)
        risk_score = stability_info.get('risk_score', {}).get('composite_risk', 0.5)
        
        for step in range(n_steps):
            # Get next state prediction
            next_state, step_confidence = self._predict_next_state(
                current_state, 
                base_stability,
                risk_score,
                step
            )
            
            # Calculate prediction confidence
            cumulative_confidence *= step_confidence
            
            predictions.append({
                'state': next_state,
                'confidence': step_confidence,
                'cumulative_confidence': cumulative_confidence,
                'step': step + 1
            })
            
            current_state = next_state
            
        return predictions
    
    def _predict_next_state(self, 
                           current_state: tuple, 
                           stability_score: float,
                           risk_score: float,
                           step: int) -> Tuple[tuple, float]:
        # Get state ID
        state_id = self.transition_matrix.state_map.get(current_state)
        if state_id is None:
            return self._handle_unknown_state(current_state, stability_score)
        
        # Get transition probabilities
        probs = self.transition_matrix.probability_matrix[state_id]
        
        # Apply stability and risk adjustments
        adjusted_probs = self._adjust_probabilities(
            probs, 
            stability_score,
            risk_score,
            step
        )
        
        # Select next state
        next_state_id = np.random.choice(
            len(probs),
            p=adjusted_probs
        )
        
        next_state = self.transition_matrix.reverse_map[next_state_id]
        confidence = adjusted_probs[next_state_id]
        
        return next_state, confidence
    def _adjust_probabilities(self, 
                         base_probs: np.ndarray,
                         stability_score: float,
                         risk_score: float,
                         step: int) -> np.ndarray:
        # Apply stability-based smoothing
        stability_factor = np.exp(-step * (1 - stability_score))

        # Apply risk-based adjustment
        risk_factor = 1 - risk_score

        # Combine adjustments
        adjusted_probs = base_probs * stability_factor * risk_factor

        # Handle NaN and zero probabilities
        if np.isnan(adjusted_probs).any() or adjusted_probs.sum() == 0:
            adjusted_probs = np.ones_like(base_probs) / len(base_probs)
        else:
            # Ensure normalization to sum to 1
            adjusted_probs = adjusted_probs / adjusted_probs.sum()

        return adjusted_probs

    
    def _handle_unknown_state(self, 
                            state: tuple,
                            stability_score: float) -> Tuple[tuple, float]:
        # Find closest known state based on feature similarity
        closest_state = self._find_closest_state(state)
        reduced_confidence = stability_score * 0.5  # Reduce confidence for unknown states
        
        return closest_state, reduced_confidence
    
    def _find_closest_state(self, target_state: tuple) -> tuple:
        min_distance = float('inf')
        closest_state = None
        
        for known_state in self.transition_matrix.state_map.keys():
            # Compare numerical features only (excluding risk and stability levels)
            distance = sum((a - b) ** 2 for a, b in 
                         zip(target_state[:4], known_state[:4]))
            
            if distance < min_distance:
                min_distance = distance
                closest_state = known_state
        
        return closest_state or target_state
    
    def evaluate_predictions(self, 
                           test_sequences: List[Dict],
                           n_steps: int = 5) -> Dict:
        evaluation_results = {
            'mse': [],
            'mae': [],
            'confidence_scores': [],
            'stability_correlation': []
        }
        
        for series_id, sequence in test_sequences.items():
            if len(sequence) <= n_steps:
                continue
                
            # Get initial state
            initial_state = (
                sequence[0]['eodb_bin'],
                sequence[0]['duration_bin'],
                sequence[0]['slope_bin'],
                sequence[0]['curvature_bin']
            )
            
            # Make predictions
            predictions = self.predict_sequence(
                initial_state, 
                n_steps,
                series_id
            )
            
            # Extract actual values for comparison
            actuals = sequence[1:n_steps+1]
            
            # Calculate errors
            predicted_eodb = [p['state'][0] for p in predictions]
            actual_eodb = [a['eodb_bin'] for a in actuals]
            
            mse = mean_squared_error(actual_eodb, predicted_eodb)
            mae = mean_absolute_error(actual_eodb, predicted_eodb)
            
            evaluation_results['mse'].append(mse)
            evaluation_results['mae'].append(mae)
            evaluation_results['confidence_scores'].append(
                [p['confidence'] for p in predictions]
            )
            
            # Calculate stability correlation
            if series_id in self.stability_metrics:
                stability = self.stability_metrics[series_id]['stability_scores']['composite_score']
                evaluation_results['stability_correlation'].append((stability, mae))
        
        return self._summarize_evaluation(evaluation_results)
    
    def _summarize_evaluation(self, results: Dict) -> Dict:
        return {
            'average_mse': np.mean(results['mse']),
            'average_mae': np.mean(results['mae']),
            'confidence_distribution': {
                'mean': np.mean([np.mean(c) for c in results['confidence_scores']]),
                'std': np.std([np.mean(c) for c in results['confidence_scores']])
            },
            'stability_correlation': np.corrcoef(
                [x[0] for x in results['stability_correlation']],
                [x[1] for x in results['stability_correlation']]
            )[0,1] if results['stability_correlation'] else None
        }
def plot_extended_predictions(series_id, full_eodb_sequence, predictions_30, predictions_60, predictions_90):
    plt.figure(figsize=(15, 8))
    
    # Plot full EODB sequence
    time_points = range(len(full_eodb_sequence))
    plt.plot(time_points, full_eodb_sequence, 'b-', label='Historical EODB', linewidth=2)
    
    # Plot predictions for different horizons
    last_point = full_eodb_sequence[-1]
    
    # 30-day prediction
    pred_30 = [last_point] + [p['state'][0] for p in predictions_30]
    plt.plot(range(len(time_points)-1, len(time_points)+30), pred_30, 'r--', label='30-day forecast')
    
    # 60-day prediction
    pred_60 = [last_point] + [p['state'][0] for p in predictions_60]
    plt.plot(range(len(time_points)-1, len(time_points)+60), pred_60, 'g--', label='60-day forecast')
    
    # 90-day prediction
    pred_90 = [last_point] + [p['state'][0] for p in predictions_90]
    plt.plot(range(len(time_points)-1, len(time_points)+90), pred_90, 'y--', label='90-day forecast')
    
    plt.title(f'EODB History and Predictions - Series {series_id}')
    plt.xlabel('Time (days)')
    plt.ylabel('EODB Value')
    plt.legend()
    plt.grid(True)

    return

# Configuration
PREDICT_CONFIG = {
    'matrix_path': Path('data/matrix/transition_matrix.pkl'),
    'stability_path': Path('data/stability/stability_metrics.pkl'),
    'test_data_path': Path('data/test/test_sequences.pkl'),
    'prediction_steps': 5,
    'output_path': Path('data/predictions'),
    'output_filename': 'predictions.pkl'
}

# Load data
transition_data = pd.read_pickle(PREDICT_CONFIG['matrix_path'])
stability_metrics = pd.read_pickle(PREDICT_CONFIG['stability_path'])
test_sequences = pd.read_pickle(PREDICT_CONFIG['test_data_path'])

# Initialize predictor
predictor = EnhancedPredictor(
    transition_data['transition_matrix'],
    stability_metrics,
    PREDICT_CONFIG
)

# Make predictions for test sequences
predictions = {}
for series_id, sequence in test_sequences.items():
    initial_state = (
        sequence[0]['eodb_bin'],
        sequence[0]['duration_bin'],
        sequence[0]['slope_bin'],
        sequence[0]['curvature_bin']
    )
    predictions[series_id] = predictor.predict_sequence(
        initial_state,
        PREDICT_CONFIG['prediction_steps'],
        series_id
    )

# Evaluate predictions
evaluation = predictor.evaluate_predictions(
    test_sequences,
    PREDICT_CONFIG['prediction_steps']
)

# Save results
PREDICT_CONFIG['output_path'].mkdir(exist_ok=True, parents=True)
output_file = PREDICT_CONFIG['output_path'] / PREDICT_CONFIG['output_filename']
pd.to_pickle({
    'predictions': predictions,
    'evaluation': evaluation
}, output_file)

# Visualization
plt.figure(figsize=(15, 10))
fig, (ax1, ax2) = plt.subplots(2, 1, figsize=(15, 12))

# Plot prediction confidence distribution
confidence_values = [
    pred['confidence'] 
    for series_preds in predictions.values() 
    for pred in series_preds
]
sns.histplot(confidence_values, bins=30, ax=ax1)
ax1.set_title('Prediction Confidence Distribution')
ax1.set_xlabel('Confidence Score')
ax1.set_ylabel('Count')

# Plot stability vs prediction error
stability_scores = [
    stability_metrics[sid]['stability_scores']['composite_score']
    for sid in test_sequences.keys()
]
prediction_errors = [
    np.mean([p['confidence'] for p in preds])
    for preds in predictions.values()
]
sns.scatterplot(x=stability_scores, y=prediction_errors, ax=ax2)
ax2.set_title('Stability Score vs Prediction Confidence')
ax2.set_xlabel('Stability Score')
ax2.set_ylabel('Average Prediction Confidence')

plt.tight_layout()
plt.show()

# Print evaluation summary
print("\nPrediction Evaluation Summary:")
print(f"Average MSE: {evaluation['average_mse']:.3f}")
print(f"Average MAE: {evaluation['average_mae']:.3f}")
print(f"Mean Confidence: {evaluation['confidence_distribution']['mean']:.3f}")
print(f"Confidence Std: {evaluation['confidence_distribution']['std']:.3f}")
print(f"Stability-Error Correlation: {evaluation['stability_correlation']:.3f}")

# Load original EODB data
#D:\FinTech\Data_Extraction\EODB_Classes\data\eodb
original_eodb = pd.read_pickle('data/eodb/eodb_series.pkl')

# Generate predictions for different horizons
random_series = np.random.choice(list(test_sequences.keys()), 3, replace=False)
for series_id in random_series:
    # Get full historical sequence
    print (type(original_eodb[series_id]))
    print (original_eodb[series_id].keys())


for series_id in random_series:
    # Get full historical sequence and convert to numpy array
    full_eodb_sequence = original_eodb[series_id].values
    
    # Get initial state from the last point of historical data
    initial_state = (
        test_sequences[series_id][0]['eodb_bin'],
        test_sequences[series_id][0]['duration_bin'],
        test_sequences[series_id][0]['slope_bin'],
        test_sequences[series_id][0]['curvature_bin']
    )
    
    predictions_30 = predictor.predict_sequence(initial_state, 30, series_id)
    predictions_60 = predictor.predict_sequence(initial_state, 60, series_id)
    predictions_90 = predictor.predict_sequence(initial_state, 90, series_id)
    
    plot_extended_predictions(
        series_id,
        full_eodb_sequence,
        predictions_30,
        predictions_60,
        predictions_90
    )

